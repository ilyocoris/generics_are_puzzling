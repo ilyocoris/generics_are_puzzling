{
 "cells": [
  {
   "cell_type": "code",
   "execution_count": 1,
   "metadata": {},
   "outputs": [],
   "source": [
    "import pandas as pd\n",
    "congen_path = \"../CONGEN\""
   ]
  },
  {
   "cell_type": "code",
   "execution_count": 10,
   "metadata": {},
   "outputs": [
    {
     "name": "stdout",
     "output_type": "stream",
     "text": [
      "            doc_id  text  original_quantifier\n",
      "source                                       \n",
      "dolma         2189  2189                 2189\n",
      "reddit2024     687   687                  687\n",
      "                     doc_id  text  source\n",
      "original_quantifier                      \n",
      "all                     571   571     571\n",
      "gen                     973   973     973\n",
      "most                    736   736     736\n",
      "some                    596   596     596\n",
      "                                doc_id  text\n",
      "source     original_quantifier              \n",
      "dolma      all                     500   500\n",
      "           gen                     560   560\n",
      "           most                    578   578\n",
      "           some                    551   551\n",
      "reddit2024 all                      71    71\n",
      "           gen                     413   413\n",
      "           most                    158   158\n",
      "           some                     45    45\n",
      "Total: 2876\n"
     ]
    }
   ],
   "source": [
    "df = pd.read_csv(congen_path + \"/sentences.csv\")\n",
    "print(df.groupby([\"source\"]).count())\n",
    "print(df.groupby([\"original_quantifier\"]).count())\n",
    "print(df.groupby([\"source\", \"original_quantifier\"]).count())\n",
    "print(f\"Total: {len(df)}\")\n"
   ]
  }
 ],
 "metadata": {
  "kernelspec": {
   "display_name": "backgammon",
   "language": "python",
   "name": "python3"
  },
  "language_info": {
   "codemirror_mode": {
    "name": "ipython",
    "version": 3
   },
   "file_extension": ".py",
   "mimetype": "text/x-python",
   "name": "python",
   "nbconvert_exporter": "python",
   "pygments_lexer": "ipython3",
   "version": "3.9.19"
  }
 },
 "nbformat": 4,
 "nbformat_minor": 2
}
